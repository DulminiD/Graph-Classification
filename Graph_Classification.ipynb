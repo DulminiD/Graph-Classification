{
  "nbformat": 4,
  "nbformat_minor": 0,
  "metadata": {
    "colab": {
      "provenance": []
    },
    "kernelspec": {
      "name": "python3",
      "display_name": "Python 3"
    },
    "language_info": {
      "name": "python"
    }
  },
  "cells": [
    {
      "cell_type": "markdown",
      "source": [
        "# Graph Classification Problem"
      ],
      "metadata": {
        "id": "gv6LUODLVJ4D"
      }
    },
    {
      "cell_type": "markdown",
      "source": [
        "Uses Proteins Dataset given in the Assignment pdf. "
      ],
      "metadata": {
        "id": "Iar2wkdEVQwO"
      }
    },
    {
      "cell_type": "code",
      "execution_count": null,
      "metadata": {
        "colab": {
          "base_uri": "https://localhost:8080/"
        },
        "id": "izFvsv8bhndh",
        "outputId": "e61c3ab4-4211-40fa-97ef-9ffcbb465959"
      },
      "outputs": [
        {
          "output_type": "stream",
          "name": "stdout",
          "text": [
            "Looking in indexes: https://pypi.org/simple, https://us-python.pkg.dev/colab-wheels/public/simple/\n",
            "Collecting spektral\n",
            "  Downloading spektral-1.2.0-py3-none-any.whl (140 kB)\n",
            "\u001b[K     |████████████████████████████████| 140 kB 5.6 MB/s \n",
            "\u001b[?25hRequirement already satisfied: numpy in /usr/local/lib/python3.8/dist-packages (from spektral) (1.21.6)\n",
            "Requirement already satisfied: scipy in /usr/local/lib/python3.8/dist-packages (from spektral) (1.7.3)\n",
            "Requirement already satisfied: tensorflow>=2.2.0 in /usr/local/lib/python3.8/dist-packages (from spektral) (2.9.2)\n",
            "Requirement already satisfied: networkx in /usr/local/lib/python3.8/dist-packages (from spektral) (2.8.8)\n",
            "Requirement already satisfied: pandas in /usr/local/lib/python3.8/dist-packages (from spektral) (1.3.5)\n",
            "Requirement already satisfied: tqdm in /usr/local/lib/python3.8/dist-packages (from spektral) (4.64.1)\n",
            "Requirement already satisfied: joblib in /usr/local/lib/python3.8/dist-packages (from spektral) (1.2.0)\n",
            "Requirement already satisfied: scikit-learn in /usr/local/lib/python3.8/dist-packages (from spektral) (1.0.2)\n",
            "Requirement already satisfied: requests in /usr/local/lib/python3.8/dist-packages (from spektral) (2.23.0)\n",
            "Requirement already satisfied: lxml in /usr/local/lib/python3.8/dist-packages (from spektral) (4.9.1)\n",
            "Requirement already satisfied: protobuf<3.20,>=3.9.2 in /usr/local/lib/python3.8/dist-packages (from tensorflow>=2.2.0->spektral) (3.19.6)\n",
            "Requirement already satisfied: keras<2.10.0,>=2.9.0rc0 in /usr/local/lib/python3.8/dist-packages (from tensorflow>=2.2.0->spektral) (2.9.0)\n",
            "Requirement already satisfied: google-pasta>=0.1.1 in /usr/local/lib/python3.8/dist-packages (from tensorflow>=2.2.0->spektral) (0.2.0)\n",
            "Requirement already satisfied: opt-einsum>=2.3.2 in /usr/local/lib/python3.8/dist-packages (from tensorflow>=2.2.0->spektral) (3.3.0)\n",
            "Requirement already satisfied: gast<=0.4.0,>=0.2.1 in /usr/local/lib/python3.8/dist-packages (from tensorflow>=2.2.0->spektral) (0.4.0)\n",
            "Requirement already satisfied: astunparse>=1.6.0 in /usr/local/lib/python3.8/dist-packages (from tensorflow>=2.2.0->spektral) (1.6.3)\n",
            "Requirement already satisfied: six>=1.12.0 in /usr/local/lib/python3.8/dist-packages (from tensorflow>=2.2.0->spektral) (1.15.0)\n",
            "Requirement already satisfied: absl-py>=1.0.0 in /usr/local/lib/python3.8/dist-packages (from tensorflow>=2.2.0->spektral) (1.3.0)\n",
            "Requirement already satisfied: tensorflow-io-gcs-filesystem>=0.23.1 in /usr/local/lib/python3.8/dist-packages (from tensorflow>=2.2.0->spektral) (0.28.0)\n",
            "Requirement already satisfied: typing-extensions>=3.6.6 in /usr/local/lib/python3.8/dist-packages (from tensorflow>=2.2.0->spektral) (4.4.0)\n",
            "Requirement already satisfied: flatbuffers<2,>=1.12 in /usr/local/lib/python3.8/dist-packages (from tensorflow>=2.2.0->spektral) (1.12)\n",
            "Requirement already satisfied: h5py>=2.9.0 in /usr/local/lib/python3.8/dist-packages (from tensorflow>=2.2.0->spektral) (3.1.0)\n",
            "Requirement already satisfied: grpcio<2.0,>=1.24.3 in /usr/local/lib/python3.8/dist-packages (from tensorflow>=2.2.0->spektral) (1.51.1)\n",
            "Requirement already satisfied: wrapt>=1.11.0 in /usr/local/lib/python3.8/dist-packages (from tensorflow>=2.2.0->spektral) (1.14.1)\n",
            "Requirement already satisfied: packaging in /usr/local/lib/python3.8/dist-packages (from tensorflow>=2.2.0->spektral) (21.3)\n",
            "Requirement already satisfied: tensorflow-estimator<2.10.0,>=2.9.0rc0 in /usr/local/lib/python3.8/dist-packages (from tensorflow>=2.2.0->spektral) (2.9.0)\n",
            "Requirement already satisfied: termcolor>=1.1.0 in /usr/local/lib/python3.8/dist-packages (from tensorflow>=2.2.0->spektral) (2.1.1)\n",
            "Requirement already satisfied: libclang>=13.0.0 in /usr/local/lib/python3.8/dist-packages (from tensorflow>=2.2.0->spektral) (14.0.6)\n",
            "Requirement already satisfied: tensorboard<2.10,>=2.9 in /usr/local/lib/python3.8/dist-packages (from tensorflow>=2.2.0->spektral) (2.9.1)\n",
            "Requirement already satisfied: keras-preprocessing>=1.1.1 in /usr/local/lib/python3.8/dist-packages (from tensorflow>=2.2.0->spektral) (1.1.2)\n",
            "Requirement already satisfied: setuptools in /usr/local/lib/python3.8/dist-packages (from tensorflow>=2.2.0->spektral) (57.4.0)\n",
            "Requirement already satisfied: wheel<1.0,>=0.23.0 in /usr/local/lib/python3.8/dist-packages (from astunparse>=1.6.0->tensorflow>=2.2.0->spektral) (0.38.4)\n",
            "Requirement already satisfied: werkzeug>=1.0.1 in /usr/local/lib/python3.8/dist-packages (from tensorboard<2.10,>=2.9->tensorflow>=2.2.0->spektral) (1.0.1)\n",
            "Requirement already satisfied: markdown>=2.6.8 in /usr/local/lib/python3.8/dist-packages (from tensorboard<2.10,>=2.9->tensorflow>=2.2.0->spektral) (3.4.1)\n",
            "Requirement already satisfied: tensorboard-plugin-wit>=1.6.0 in /usr/local/lib/python3.8/dist-packages (from tensorboard<2.10,>=2.9->tensorflow>=2.2.0->spektral) (1.8.1)\n",
            "Requirement already satisfied: tensorboard-data-server<0.7.0,>=0.6.0 in /usr/local/lib/python3.8/dist-packages (from tensorboard<2.10,>=2.9->tensorflow>=2.2.0->spektral) (0.6.1)\n",
            "Requirement already satisfied: google-auth-oauthlib<0.5,>=0.4.1 in /usr/local/lib/python3.8/dist-packages (from tensorboard<2.10,>=2.9->tensorflow>=2.2.0->spektral) (0.4.6)\n",
            "Requirement already satisfied: google-auth<3,>=1.6.3 in /usr/local/lib/python3.8/dist-packages (from tensorboard<2.10,>=2.9->tensorflow>=2.2.0->spektral) (2.15.0)\n",
            "Requirement already satisfied: pyasn1-modules>=0.2.1 in /usr/local/lib/python3.8/dist-packages (from google-auth<3,>=1.6.3->tensorboard<2.10,>=2.9->tensorflow>=2.2.0->spektral) (0.2.8)\n",
            "Requirement already satisfied: cachetools<6.0,>=2.0.0 in /usr/local/lib/python3.8/dist-packages (from google-auth<3,>=1.6.3->tensorboard<2.10,>=2.9->tensorflow>=2.2.0->spektral) (5.2.0)\n",
            "Requirement already satisfied: rsa<5,>=3.1.4 in /usr/local/lib/python3.8/dist-packages (from google-auth<3,>=1.6.3->tensorboard<2.10,>=2.9->tensorflow>=2.2.0->spektral) (4.9)\n",
            "Requirement already satisfied: requests-oauthlib>=0.7.0 in /usr/local/lib/python3.8/dist-packages (from google-auth-oauthlib<0.5,>=0.4.1->tensorboard<2.10,>=2.9->tensorflow>=2.2.0->spektral) (1.3.1)\n",
            "Requirement already satisfied: importlib-metadata>=4.4 in /usr/local/lib/python3.8/dist-packages (from markdown>=2.6.8->tensorboard<2.10,>=2.9->tensorflow>=2.2.0->spektral) (4.13.0)\n",
            "Requirement already satisfied: zipp>=0.5 in /usr/local/lib/python3.8/dist-packages (from importlib-metadata>=4.4->markdown>=2.6.8->tensorboard<2.10,>=2.9->tensorflow>=2.2.0->spektral) (3.11.0)\n",
            "Requirement already satisfied: pyasn1<0.5.0,>=0.4.6 in /usr/local/lib/python3.8/dist-packages (from pyasn1-modules>=0.2.1->google-auth<3,>=1.6.3->tensorboard<2.10,>=2.9->tensorflow>=2.2.0->spektral) (0.4.8)\n",
            "Requirement already satisfied: urllib3!=1.25.0,!=1.25.1,<1.26,>=1.21.1 in /usr/local/lib/python3.8/dist-packages (from requests->spektral) (1.24.3)\n",
            "Requirement already satisfied: chardet<4,>=3.0.2 in /usr/local/lib/python3.8/dist-packages (from requests->spektral) (3.0.4)\n",
            "Requirement already satisfied: certifi>=2017.4.17 in /usr/local/lib/python3.8/dist-packages (from requests->spektral) (2022.9.24)\n",
            "Requirement already satisfied: idna<3,>=2.5 in /usr/local/lib/python3.8/dist-packages (from requests->spektral) (2.10)\n",
            "Requirement already satisfied: oauthlib>=3.0.0 in /usr/local/lib/python3.8/dist-packages (from requests-oauthlib>=0.7.0->google-auth-oauthlib<0.5,>=0.4.1->tensorboard<2.10,>=2.9->tensorflow>=2.2.0->spektral) (3.2.2)\n",
            "Requirement already satisfied: pyparsing!=3.0.5,>=2.0.2 in /usr/local/lib/python3.8/dist-packages (from packaging->tensorflow>=2.2.0->spektral) (3.0.9)\n",
            "Requirement already satisfied: python-dateutil>=2.7.3 in /usr/local/lib/python3.8/dist-packages (from pandas->spektral) (2.8.2)\n",
            "Requirement already satisfied: pytz>=2017.3 in /usr/local/lib/python3.8/dist-packages (from pandas->spektral) (2022.6)\n",
            "Requirement already satisfied: threadpoolctl>=2.0.0 in /usr/local/lib/python3.8/dist-packages (from scikit-learn->spektral) (3.1.0)\n",
            "Installing collected packages: spektral\n",
            "Successfully installed spektral-1.2.0\n"
          ]
        }
      ],
      "source": [
        "!pip install spektral\n"
      ]
    },
    {
      "cell_type": "code",
      "source": [
        "from spektral.datasets import TUDataset\n",
        "\n",
        "data = TUDataset('PROTEINS')\n",
        "data\n"
      ],
      "metadata": {
        "colab": {
          "base_uri": "https://localhost:8080/"
        },
        "id": "yqEGjXKXi2uq",
        "outputId": "786891da-0876-4c26-8c45-9ff7554790be"
      },
      "execution_count": null,
      "outputs": [
        {
          "output_type": "stream",
          "name": "stdout",
          "text": [
            "Downloading PROTEINS dataset.\n"
          ]
        },
        {
          "output_type": "stream",
          "name": "stderr",
          "text": [
            "100%|█████████████████████████████████████████| 447k/447k [00:00<00:00, 800kB/s]\n"
          ]
        },
        {
          "output_type": "stream",
          "name": "stdout",
          "text": [
            "Successfully loaded PROTEINS.\n"
          ]
        },
        {
          "output_type": "execute_result",
          "data": {
            "text/plain": [
              "TUDataset(n_graphs=1113)"
            ]
          },
          "metadata": {},
          "execution_count": 2
        }
      ]
    },
    {
      "cell_type": "code",
      "source": [
        "from spektral.transforms import GCNFilter\n",
        "\n",
        "data.apply(GCNFilter())\n"
      ],
      "metadata": {
        "id": "1JLwG0DMi4xR"
      },
      "execution_count": null,
      "outputs": []
    },
    {
      "cell_type": "code",
      "source": [
        "import numpy as np\n",
        "\n",
        "np.random.shuffle(data)\n",
        "split = int(0.8 * len(data))\n",
        "data_train, data_test = data[:split], data[split:]"
      ],
      "metadata": {
        "colab": {
          "base_uri": "https://localhost:8080/"
        },
        "id": "LlCmd5-oi7og",
        "outputId": "558cea8f-ea2c-41f3-8945-316388459e95"
      },
      "execution_count": null,
      "outputs": [
        {
          "output_type": "stream",
          "name": "stderr",
          "text": [
            "<ipython-input-4-4288fec95ac6>:3: UserWarning: you are shuffling a 'TUDataset' object which is not a subclass of 'Sequence'; `shuffle` is not guaranteed to behave correctly. E.g., non-numpy array/tensor objects with view semantics may contain duplicates after shuffling.\n",
            "  np.random.shuffle(data)\n"
          ]
        }
      ]
    },
    {
      "cell_type": "code",
      "source": [
        "from tensorflow.keras.models import Model\n",
        "from tensorflow.keras.layers import Dense, Dropout\n",
        "from spektral.layers import GCNConv, GlobalSumPool"
      ],
      "metadata": {
        "id": "XCtD6kzKi-B6"
      },
      "execution_count": null,
      "outputs": []
    },
    {
      "cell_type": "markdown",
      "source": [
        "**Model 01**"
      ],
      "metadata": {
        "id": "11SUq1aFWKgv"
      }
    },
    {
      "cell_type": "code",
      "source": [
        "class ProteinsGNN(Model):\n",
        "  \n",
        "  def __init__(self, n_hidden, n_labels):\n",
        "    super().__init__()\n",
        "    self.graph_conv = GCNConv(n_hidden)\n",
        "    self.pool = GlobalSumPool()\n",
        "    self.dropout = Dropout(0.5)\n",
        "    self.dense = Dense(n_labels, 'softmax')\n",
        "\n",
        "  def call(self, inputs):\n",
        "    out = self.graph_conv(inputs)\n",
        "    out = self.dropout(out)\n",
        "    out = self.pool(out)\n",
        "    out = self.dense(out)\n",
        "\n",
        "    return out"
      ],
      "metadata": {
        "id": "xVSp49bzjB83"
      },
      "execution_count": null,
      "outputs": []
    },
    {
      "cell_type": "code",
      "source": [
        "model1 = ProteinsGNN(32, data.n_labels)"
      ],
      "metadata": {
        "id": "XhEKC7_djCwM"
      },
      "execution_count": null,
      "outputs": []
    },
    {
      "cell_type": "code",
      "source": [
        "model1.compile('adam', 'categorical_crossentropy')"
      ],
      "metadata": {
        "id": "O3lmY9nsjIYC"
      },
      "execution_count": null,
      "outputs": []
    },
    {
      "cell_type": "code",
      "source": [
        "from spektral.data import BatchLoader\n",
        "\n",
        "loader = BatchLoader(data_train, batch_size=32)"
      ],
      "metadata": {
        "id": "AWS3R8ZvjJHP"
      },
      "execution_count": null,
      "outputs": []
    },
    {
      "cell_type": "code",
      "source": [
        "model1.fit(loader.load(), steps_per_epoch=loader.steps_per_epoch, epochs=30)"
      ],
      "metadata": {
        "colab": {
          "base_uri": "https://localhost:8080/"
        },
        "id": "lsb2D9-SjNBX",
        "outputId": "8c30deaa-a813-436c-eb7f-a8efd70a84e1"
      },
      "execution_count": null,
      "outputs": [
        {
          "output_type": "stream",
          "name": "stdout",
          "text": [
            "Epoch 1/30\n",
            "28/28 [==============================] - 1s 28ms/step - loss: 0.7895\n",
            "Epoch 2/30\n",
            "28/28 [==============================] - 1s 23ms/step - loss: 0.6990\n",
            "Epoch 3/30\n",
            "28/28 [==============================] - 1s 24ms/step - loss: 0.7030\n",
            "Epoch 4/30\n",
            "28/28 [==============================] - 1s 22ms/step - loss: 0.7532\n",
            "Epoch 5/30\n",
            "28/28 [==============================] - 1s 32ms/step - loss: 0.7580\n",
            "Epoch 6/30\n",
            "28/28 [==============================] - 1s 20ms/step - loss: 0.6956\n",
            "Epoch 7/30\n",
            "28/28 [==============================] - 1s 23ms/step - loss: 0.7148\n",
            "Epoch 8/30\n",
            "28/28 [==============================] - 1s 25ms/step - loss: 0.9733\n",
            "Epoch 9/30\n",
            "28/28 [==============================] - 1s 24ms/step - loss: 0.7545\n",
            "Epoch 10/30\n",
            "28/28 [==============================] - 1s 25ms/step - loss: 0.6483\n",
            "Epoch 11/30\n",
            "28/28 [==============================] - 1s 22ms/step - loss: 0.6979\n",
            "Epoch 12/30\n",
            "28/28 [==============================] - 1s 23ms/step - loss: 0.6715\n",
            "Epoch 13/30\n",
            "28/28 [==============================] - 1s 23ms/step - loss: 0.6466\n",
            "Epoch 14/30\n",
            "28/28 [==============================] - 1s 26ms/step - loss: 0.6634\n",
            "Epoch 15/30\n",
            "28/28 [==============================] - 0s 16ms/step - loss: 0.6156\n",
            "Epoch 16/30\n",
            "28/28 [==============================] - 1s 31ms/step - loss: 0.7131\n",
            "Epoch 17/30\n",
            "28/28 [==============================] - 1s 21ms/step - loss: 0.6793\n",
            "Epoch 18/30\n",
            "28/28 [==============================] - 1s 21ms/step - loss: 0.8191\n",
            "Epoch 19/30\n",
            "28/28 [==============================] - 1s 31ms/step - loss: 0.7626\n",
            "Epoch 20/30\n",
            "28/28 [==============================] - 1s 25ms/step - loss: 0.7902\n",
            "Epoch 21/30\n",
            "28/28 [==============================] - 1s 28ms/step - loss: 0.6936\n",
            "Epoch 22/30\n",
            "28/28 [==============================] - 1s 41ms/step - loss: 0.6203\n",
            "Epoch 23/30\n",
            "28/28 [==============================] - 1s 42ms/step - loss: 0.6862\n",
            "Epoch 24/30\n",
            "28/28 [==============================] - 1s 33ms/step - loss: 0.6429\n",
            "Epoch 25/30\n",
            "28/28 [==============================] - 0s 16ms/step - loss: 0.7917\n",
            "Epoch 26/30\n",
            "28/28 [==============================] - 1s 26ms/step - loss: 0.7986\n",
            "Epoch 27/30\n",
            "28/28 [==============================] - 1s 28ms/step - loss: 0.6759\n",
            "Epoch 28/30\n",
            "28/28 [==============================] - 1s 19ms/step - loss: 0.6602\n",
            "Epoch 29/30\n",
            "28/28 [==============================] - 1s 22ms/step - loss: 0.6277\n",
            "Epoch 30/30\n",
            "28/28 [==============================] - 1s 28ms/step - loss: 0.6480\n"
          ]
        },
        {
          "output_type": "execute_result",
          "data": {
            "text/plain": [
              "<keras.callbacks.History at 0x7f8b26fa8040>"
            ]
          },
          "metadata": {},
          "execution_count": 16
        }
      ]
    },
    {
      "cell_type": "code",
      "source": [
        "test_loader = BatchLoader(data_test, batch_size=32)"
      ],
      "metadata": {
        "id": "RiMRK_xHjOZd"
      },
      "execution_count": null,
      "outputs": []
    },
    {
      "cell_type": "code",
      "source": [
        "loss = model1.evaluate(test_loader.load(), steps=loader.steps_per_epoch)\n",
        "\n",
        "print('Test loss: {}'.format(loss))"
      ],
      "metadata": {
        "colab": {
          "base_uri": "https://localhost:8080/"
        },
        "id": "m4BvbglljSVR",
        "outputId": "aa89e932-1ae1-4824-de90-c7b4c56a74b2"
      },
      "execution_count": null,
      "outputs": [
        {
          "output_type": "stream",
          "name": "stdout",
          "text": [
            "28/28 [==============================] - 0s 16ms/step - loss: 0.6894\n",
            "Test loss: 0.6893763542175293\n"
          ]
        }
      ]
    },
    {
      "cell_type": "markdown",
      "source": [
        "**Model** **02** "
      ],
      "metadata": {
        "id": "DoeomdhyV6nt"
      }
    },
    {
      "cell_type": "code",
      "source": [
        "class ProteinsGNNModel2(Model):\n",
        "  \n",
        "  def __init__(self, n_hidden, n_labels):\n",
        "    super().__init__()\n",
        "    self.graph_conv = GCNConv(n_hidden)\n",
        "    self.pool = GlobalSumPool()\n",
        "    self.dropout = Dropout(0)\n",
        "    self.dense = Dense(n_labels, 'softmax')\n",
        "\n",
        "  def call(self, inputs):\n",
        "    out = self.graph_conv(inputs)\n",
        "    out = self.dropout(out)\n",
        "    out = self.pool(out)\n",
        "    out = self.dense(out)\n",
        "\n",
        "    return out"
      ],
      "metadata": {
        "id": "5wn0lkFpkU9z"
      },
      "execution_count": null,
      "outputs": []
    },
    {
      "cell_type": "code",
      "source": [
        "model = ProteinsGNNModel2(16, data.n_labels)\n",
        "model.compile('adam', 'categorical_crossentropy')\n",
        "loader = BatchLoader(data_train, batch_size=32)\n",
        "model.fit(loader.load(), steps_per_epoch=loader.steps_per_epoch, epochs=10)\n",
        "test_loader = BatchLoader(data_test, batch_size=32)\n",
        "loss = model.evaluate(loader.load(), steps=loader.steps_per_epoch)\n",
        "print('Test loss: {}'.format(loss))"
      ],
      "metadata": {
        "colab": {
          "base_uri": "https://localhost:8080/"
        },
        "id": "mvFdhUi3kjlL",
        "outputId": "2184a0d1-3b11-44bb-ea78-7eb5b4013b01"
      },
      "execution_count": null,
      "outputs": [
        {
          "output_type": "stream",
          "name": "stdout",
          "text": [
            "Epoch 1/10\n",
            "28/28 [==============================] - 1s 25ms/step - loss: 80.8237\n",
            "Epoch 2/10\n",
            "28/28 [==============================] - 1s 21ms/step - loss: 16.4794\n",
            "Epoch 3/10\n",
            "28/28 [==============================] - 1s 23ms/step - loss: 6.0820\n",
            "Epoch 4/10\n",
            "28/28 [==============================] - 1s 24ms/step - loss: 1.2891\n",
            "Epoch 5/10\n",
            "28/28 [==============================] - 1s 21ms/step - loss: 0.8883\n",
            "Epoch 6/10\n",
            "28/28 [==============================] - 1s 22ms/step - loss: 0.8615\n",
            "Epoch 7/10\n",
            "28/28 [==============================] - 1s 19ms/step - loss: 0.6555\n",
            "Epoch 8/10\n",
            "28/28 [==============================] - 1s 20ms/step - loss: 0.6714\n",
            "Epoch 9/10\n",
            "28/28 [==============================] - 1s 18ms/step - loss: 0.6902\n",
            "Epoch 10/10\n",
            "28/28 [==============================] - 1s 22ms/step - loss: 0.6161\n",
            "28/28 [==============================] - 1s 17ms/step - loss: 0.6811\n",
            "Test loss: 0.6811217665672302\n"
          ]
        }
      ]
    },
    {
      "cell_type": "code",
      "source": [
        "#Getting labels of the graphs\n",
        "#Takes a long time due to the size of the dataset \n",
        "#Still identifies as a unknown graph \n",
        "output = model1.predict(test_loader)\n",
        "output\n"
      ],
      "metadata": {
        "colab": {
          "base_uri": "https://localhost:8080/"
        },
        "id": "Oxe4T5FoqoC2",
        "outputId": "3fe448ca-554b-430f-dba0-1cbb613ba0e8"
      },
      "execution_count": null,
      "outputs": [
        {
          "output_type": "stream",
          "name": "stdout",
          "text": [
            "     15/Unknown - 0s 13ms/step"
          ]
        },
        {
          "output_type": "stream",
          "name": "stderr",
          "text": [
            "/usr/local/lib/python3.8/dist-packages/spektral/data/utils.py:221: UserWarning: you are shuffling a 'TUDataset' object which is not a subclass of 'Sequence'; `shuffle` is not guaranteed to behave correctly. E.g., non-numpy array/tensor objects with view semantics may contain duplicates after shuffling.\n",
            "  np.random.shuffle(a)\n"
          ]
        },
        {
          "output_type": "stream",
          "name": "stdout",
          "text": [
            "  85460/Unknown - 1248s 15ms/step"
          ]
        }
      ]
    },
    {
      "cell_type": "code",
      "source": [
        "output = model1.predict(test_loader)\n",
        "output"
      ],
      "metadata": {
        "id": "qMr90PCBuK6q"
      },
      "execution_count": null,
      "outputs": []
    }
  ]
}